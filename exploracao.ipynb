{
 "cells": [
  {
   "attachments": {},
   "cell_type": "markdown",
   "metadata": {},
   "source": [
    "# Lendo os Dados"
   ]
  },
  {
   "cell_type": "code",
   "execution_count": 1,
   "metadata": {
    "metadata": {}
   },
   "outputs": [],
   "source": [
    "path_json = '../data_raw/dados_empresaA.json'"
   ]
  },
  {
   "cell_type": "code",
   "execution_count": 2,
   "metadata": {
    "metadata": {}
   },
   "outputs": [
    {
     "name": "stdout",
     "output_type": "stream",
     "text": [
      "[{\"Nome do Produto\":\"Blush em p\\u00f3\",\"Categoria do Produto\":\"Eletrodom\\u00e9sticos\",\"Pre\\u00e7o do Produto (R$)\":79.41,\"Quantidade em Estoque\":7,\"Filial\":\"Filial 7\"},\n",
      "\n"
     ]
    }
   ],
   "source": [
    "with open(path_json, 'r') as file:\n",
    "    print (file.readline())"
   ]
  },
  {
   "cell_type": "code",
   "execution_count": 3,
   "metadata": {
    "metadata": {}
   },
   "outputs": [],
   "source": [
    "with open(path_json, 'r') as file:\n",
    "    dados = file.readline()"
   ]
  },
  {
   "cell_type": "code",
   "execution_count": 4,
   "metadata": {
    "metadata": {}
   },
   "outputs": [
    {
     "data": {
      "text/plain": [
       "'[{\"Nome do Produto\":\"Blush em p\\\\u00f3\",\"Categoria do Produto\":\"Eletrodom\\\\u00e9sticos\",\"Pre\\\\u00e7o do Produto (R$)\":79.41,\"Quantidade em Estoque\":7,\"Filial\":\"Filial 7\"},\\n'"
      ]
     },
     "execution_count": 4,
     "metadata": {},
     "output_type": "execute_result"
    }
   ],
   "source": [
    "dados"
   ]
  },
  {
   "cell_type": "code",
   "execution_count": 5,
   "metadata": {
    "metadata": {}
   },
   "outputs": [
    {
     "data": {
      "text/plain": [
       "str"
      ]
     },
     "execution_count": 5,
     "metadata": {},
     "output_type": "execute_result"
    }
   ],
   "source": [
    "type(dados)"
   ]
  },
  {
   "cell_type": "code",
   "execution_count": 6,
   "metadata": {
    "metadata": {}
   },
   "outputs": [],
   "source": [
    "import json"
   ]
  },
  {
   "cell_type": "code",
   "execution_count": 7,
   "metadata": {
    "metadata": {}
   },
   "outputs": [],
   "source": [
    "with open(path_json, 'r') as file:\n",
    "    dados_json = json.load(file)"
   ]
  },
  {
   "cell_type": "code",
   "execution_count": 8,
   "metadata": {
    "metadata": {}
   },
   "outputs": [
    {
     "data": {
      "text/plain": [
       "{'Nome do Produto': 'Blush em pó',\n",
       " 'Categoria do Produto': 'Eletrodomésticos',\n",
       " 'Preço do Produto (R$)': 79.41,\n",
       " 'Quantidade em Estoque': 7,\n",
       " 'Filial': 'Filial 7'}"
      ]
     },
     "execution_count": 8,
     "metadata": {},
     "output_type": "execute_result"
    }
   ],
   "source": [
    "dados_json[0]"
   ]
  },
  {
   "cell_type": "code",
   "execution_count": 9,
   "metadata": {
    "metadata": {}
   },
   "outputs": [
    {
     "data": {
      "text/plain": [
       "{'Nome do Produto': 'Base líquida',\n",
       " 'Categoria do Produto': 'Roupas',\n",
       " 'Preço do Produto (R$)': 75.02,\n",
       " 'Quantidade em Estoque': 34,\n",
       " 'Filial': 'Filial 8'}"
      ]
     },
     "execution_count": 9,
     "metadata": {},
     "output_type": "execute_result"
    }
   ],
   "source": [
    "dados_json[2]"
   ]
  },
  {
   "cell_type": "code",
   "execution_count": 10,
   "metadata": {
    "metadata": {}
   },
   "outputs": [
    {
     "data": {
      "text/plain": [
       "list"
      ]
     },
     "execution_count": 10,
     "metadata": {},
     "output_type": "execute_result"
    }
   ],
   "source": [
    "type(dados_json)"
   ]
  },
  {
   "cell_type": "code",
   "execution_count": 11,
   "metadata": {
    "metadata": {}
   },
   "outputs": [],
   "source": [
    "path_csv = '../data_raw/dados_empresaB.csv'"
   ]
  },
  {
   "cell_type": "code",
   "execution_count": 12,
   "metadata": {
    "metadata": {}
   },
   "outputs": [
    {
     "name": "stdout",
     "output_type": "stream",
     "text": [
      "Nome do Item,Classificação do Produto,Valor em Reais (R$),Quantidade em Estoque,Nome da Loja,Data da Venda\n",
      "\n"
     ]
    }
   ],
   "source": [
    "with open(path_csv, 'r') as file:\n",
    "    print(file.readline())"
   ]
  },
  {
   "cell_type": "code",
   "execution_count": 13,
   "metadata": {
    "metadata": {}
   },
   "outputs": [],
   "source": [
    "with open(path_csv, 'r') as file:\n",
    "    dados_csv = file.readline()"
   ]
  },
  {
   "cell_type": "code",
   "execution_count": 14,
   "metadata": {
    "metadata": {}
   },
   "outputs": [
    {
     "data": {
      "text/plain": [
       "'o'"
      ]
     },
     "execution_count": 14,
     "metadata": {},
     "output_type": "execute_result"
    }
   ],
   "source": [
    "dados_csv[1][0]"
   ]
  },
  {
   "cell_type": "code",
   "execution_count": 15,
   "metadata": {
    "metadata": {}
   },
   "outputs": [],
   "source": [
    "import csv"
   ]
  },
  {
   "cell_type": "code",
   "execution_count": 16,
   "metadata": {
    "metadata": {}
   },
   "outputs": [],
   "source": [
    "dados_csv = []\n",
    "with open(path_csv, 'r') as file:\n",
    "    spamreader = csv.reader(file, delimiter=',')\n",
    "    for row in spamreader:\n",
    "        dados_csv.append(row)"
   ]
  },
  {
   "cell_type": "code",
   "execution_count": 17,
   "metadata": {
    "metadata": {}
   },
   "outputs": [
    {
     "data": {
      "text/plain": [
       "7"
      ]
     },
     "execution_count": 17,
     "metadata": {},
     "output_type": "execute_result"
    }
   ],
   "source": [
    "dados_json[0]['Quantidade em Estoque']"
   ]
  },
  {
   "cell_type": "code",
   "execution_count": 18,
   "metadata": {
    "metadata": {}
   },
   "outputs": [
    {
     "data": {
      "text/plain": [
       "'62'"
      ]
     },
     "execution_count": 18,
     "metadata": {},
     "output_type": "execute_result"
    }
   ],
   "source": [
    "dados_csv[1][3]"
   ]
  },
  {
   "cell_type": "code",
   "execution_count": 19,
   "metadata": {
    "metadata": {}
   },
   "outputs": [],
   "source": [
    "dados_csv = []\n",
    "with open(path_csv, 'r') as file:\n",
    "    spamreader = csv.DictReader(file, delimiter=',')\n",
    "    for row in spamreader:\n",
    "        dados_csv.append(row)"
   ]
  },
  {
   "cell_type": "code",
   "execution_count": 20,
   "metadata": {
    "metadata": {}
   },
   "outputs": [
    {
     "data": {
      "text/plain": [
       "{'Nome do Item': 'Lápis de sobrancelha',\n",
       " 'Classificação do Produto': 'Roupas',\n",
       " 'Valor em Reais (R$)': '55.17',\n",
       " 'Quantidade em Estoque': '62',\n",
       " 'Nome da Loja': 'Filial 1',\n",
       " 'Data da Venda': '2023-04-13 18:58:06.794203'}"
      ]
     },
     "execution_count": 20,
     "metadata": {},
     "output_type": "execute_result"
    }
   ],
   "source": [
    "dados_csv[0]"
   ]
  },
  {
   "cell_type": "code",
   "execution_count": 21,
   "metadata": {
    "metadata": {}
   },
   "outputs": [
    {
     "data": {
      "text/plain": [
       "['Nome do Produto',\n",
       " 'Categoria do Produto',\n",
       " 'Preço do Produto (R$)',\n",
       " 'Quantidade em Estoque',\n",
       " 'Filial']"
      ]
     },
     "execution_count": 21,
     "metadata": {},
     "output_type": "execute_result"
    }
   ],
   "source": [
    "nome_colunas_json = list(dados_json[0].keys())\n",
    "nome_colunas_json"
   ]
  },
  {
   "cell_type": "code",
   "execution_count": 22,
   "metadata": {
    "metadata": {}
   },
   "outputs": [
    {
     "data": {
      "text/plain": [
       "5"
      ]
     },
     "execution_count": 22,
     "metadata": {},
     "output_type": "execute_result"
    }
   ],
   "source": [
    "len(nome_colunas_json)"
   ]
  },
  {
   "cell_type": "code",
   "execution_count": 23,
   "metadata": {
    "metadata": {}
   },
   "outputs": [
    {
     "data": {
      "text/plain": [
       "['Nome do Item',\n",
       " 'Classificação do Produto',\n",
       " 'Valor em Reais (R$)',\n",
       " 'Quantidade em Estoque',\n",
       " 'Nome da Loja',\n",
       " 'Data da Venda']"
      ]
     },
     "execution_count": 23,
     "metadata": {},
     "output_type": "execute_result"
    }
   ],
   "source": [
    "nome_colunas_csv = list(dados_csv[0].keys())\n",
    "nome_colunas_csv"
   ]
  },
  {
   "cell_type": "code",
   "execution_count": 24,
   "metadata": {
    "metadata": {}
   },
   "outputs": [
    {
     "data": {
      "text/plain": [
       "6"
      ]
     },
     "execution_count": 24,
     "metadata": {},
     "output_type": "execute_result"
    }
   ],
   "source": [
    "len(nome_colunas_csv)"
   ]
  },
  {
   "cell_type": "code",
   "execution_count": 25,
   "metadata": {},
   "outputs": [
    {
     "data": {
      "text/plain": [
       "{'Nome do Item': 'Nome do Produto',\n",
       " 'Classificação do Produto': 'Categoria do Produto',\n",
       " 'Valor em Reais (R$)': 'Preço do Produto (R$)',\n",
       " 'Quantidade em Estoque': 'Quantidade em Estoque',\n",
       " 'Nome da Loja': 'Filial',\n",
       " 'Data da Venda': 'Data da Venda'}"
      ]
     },
     "execution_count": 25,
     "metadata": {},
     "output_type": "execute_result"
    }
   ],
   "source": [
    "key_mapping = {\"Nome do Item\" : 'Nome do Produto',\n",
    "               'Classificação do Produto' : 'Categoria do Produto',\n",
    "               'Valor em Reais (R$)' : 'Preço do Produto (R$)',\n",
    "               'Quantidade em Estoque' : 'Quantidade em Estoque',\n",
    "                'Nome da Loja' : 'Filial',\n",
    "               'Data da Venda' : 'Data da Venda'}\n",
    "key_mapping"
   ]
  },
  {
   "cell_type": "code",
   "execution_count": 26,
   "metadata": {},
   "outputs": [
    {
     "data": {
      "text/plain": [
       "{'Nome do Produto': 'Lápis de sobrancelha',\n",
       " 'Categoria do Produto': 'Roupas',\n",
       " 'Preço do Produto (R$)': '55.17',\n",
       " 'Quantidade em Estoque': '62',\n",
       " 'Filial': 'Filial 1',\n",
       " 'Data da Venda': '2023-04-13 18:58:06.794203'}"
      ]
     },
     "execution_count": 26,
     "metadata": {},
     "output_type": "execute_result"
    }
   ],
   "source": [
    "new_dados_csv = []\n",
    "\n",
    "for old_dict in dados_csv:\n",
    "    dict_temp = {}\n",
    "    for old_key, value in old_dict.items():\n",
    "        dict_temp[key_mapping[old_key]] = value \n",
    "    new_dados_csv.append(dict_temp)\n",
    "new_dados_csv[0]"
   ]
  },
  {
   "cell_type": "code",
   "execution_count": 27,
   "metadata": {},
   "outputs": [
    {
     "data": {
      "text/plain": [
       "{'Nome do Item': 'Lápis de sobrancelha',\n",
       " 'Classificação do Produto': 'Roupas',\n",
       " 'Valor em Reais (R$)': '55.17',\n",
       " 'Quantidade em Estoque': '62',\n",
       " 'Nome da Loja': 'Filial 1',\n",
       " 'Data da Venda': '2023-04-13 18:58:06.794203'}"
      ]
     },
     "execution_count": 27,
     "metadata": {},
     "output_type": "execute_result"
    }
   ],
   "source": [
    "dados_csv[0]"
   ]
  },
  {
   "cell_type": "code",
   "execution_count": 28,
   "metadata": {},
   "outputs": [
    {
     "data": {
      "text/plain": [
       "3123"
      ]
     },
     "execution_count": 28,
     "metadata": {},
     "output_type": "execute_result"
    }
   ],
   "source": [
    "len(dados_json)"
   ]
  },
  {
   "cell_type": "code",
   "execution_count": 29,
   "metadata": {},
   "outputs": [
    {
     "data": {
      "text/plain": [
       "1323"
      ]
     },
     "execution_count": 29,
     "metadata": {},
     "output_type": "execute_result"
    }
   ],
   "source": [
    "len(new_dados_csv)"
   ]
  },
  {
   "cell_type": "code",
   "execution_count": 30,
   "metadata": {},
   "outputs": [
    {
     "data": {
      "text/plain": [
       "4446"
      ]
     },
     "execution_count": 30,
     "metadata": {},
     "output_type": "execute_result"
    }
   ],
   "source": [
    "3123+1323"
   ]
  },
  {
   "cell_type": "code",
   "execution_count": 31,
   "metadata": {},
   "outputs": [],
   "source": [
    "combined_list = []\n",
    "combined_list.extend(dados_json)\n",
    "combined_list.extend(new_dados_csv)"
   ]
  },
  {
   "cell_type": "code",
   "execution_count": 32,
   "metadata": {},
   "outputs": [
    {
     "data": {
      "text/plain": [
       "4446"
      ]
     },
     "execution_count": 32,
     "metadata": {},
     "output_type": "execute_result"
    }
   ],
   "source": [
    "len(combined_list)"
   ]
  },
  {
   "cell_type": "code",
   "execution_count": 33,
   "metadata": {},
   "outputs": [
    {
     "data": {
      "text/plain": [
       "{'Nome do Produto': 'Sombra de olhos',\n",
       " 'Categoria do Produto': 'Eletrônicos',\n",
       " 'Preço do Produto (R$)': '41.73',\n",
       " 'Quantidade em Estoque': '5',\n",
       " 'Filial': 'Filial 6',\n",
       " 'Data da Venda': '2022-11-21 18:58:06.794203'}"
      ]
     },
     "execution_count": 33,
     "metadata": {},
     "output_type": "execute_result"
    }
   ],
   "source": [
    "combined_list[4445]"
   ]
  },
  {
   "cell_type": "code",
   "execution_count": 34,
   "metadata": {},
   "outputs": [
    {
     "data": {
      "text/plain": [
       "{'Nome do Produto': 'Sombra de olhos',\n",
       " 'Categoria do Produto': 'Eletrônicos',\n",
       " 'Preço do Produto (R$)': '41.73',\n",
       " 'Quantidade em Estoque': '5',\n",
       " 'Filial': 'Filial 6',\n",
       " 'Data da Venda': '2022-11-21 18:58:06.794203'}"
      ]
     },
     "execution_count": 34,
     "metadata": {},
     "output_type": "execute_result"
    }
   ],
   "source": [
    "new_dados_csv[-1]"
   ]
  },
  {
   "cell_type": "code",
   "execution_count": 35,
   "metadata": {},
   "outputs": [
    {
     "data": {
      "text/plain": [
       "['Nome do Produto',\n",
       " 'Categoria do Produto',\n",
       " 'Preço do Produto (R$)',\n",
       " 'Quantidade em Estoque',\n",
       " 'Filial']"
      ]
     },
     "execution_count": 35,
     "metadata": {},
     "output_type": "execute_result"
    }
   ],
   "source": [
    "nome_colunas = list(combined_list[0].keys())\n",
    "nome_colunas"
   ]
  },
  {
   "cell_type": "code",
   "execution_count": 36,
   "metadata": {},
   "outputs": [
    {
     "ename": "ValueError",
     "evalue": "dict contains fields not in fieldnames: 'Data da Venda'",
     "output_type": "error",
     "traceback": [
      "\u001b[0;31m---------------------------------------------------------------------------\u001b[0m",
      "\u001b[0;31mValueError\u001b[0m                                Traceback (most recent call last)",
      "Cell \u001b[0;32mIn[36], line 8\u001b[0m\n\u001b[1;32m      5\u001b[0m writer\u001b[38;5;241m.\u001b[39mwriteheader()\n\u001b[1;32m      7\u001b[0m \u001b[38;5;28;01mfor\u001b[39;00m row \u001b[38;5;129;01min\u001b[39;00m combined_list:\n\u001b[0;32m----> 8\u001b[0m     \u001b[43mwriter\u001b[49m\u001b[38;5;241;43m.\u001b[39;49m\u001b[43mwriterow\u001b[49m\u001b[43m(\u001b[49m\u001b[43mrow\u001b[49m\u001b[43m)\u001b[49m\n",
      "File \u001b[0;32m/usr/lib/python3.10/csv.py:154\u001b[0m, in \u001b[0;36mDictWriter.writerow\u001b[0;34m(self, rowdict)\u001b[0m\n\u001b[1;32m    153\u001b[0m \u001b[38;5;28;01mdef\u001b[39;00m \u001b[38;5;21mwriterow\u001b[39m(\u001b[38;5;28mself\u001b[39m, rowdict):\n\u001b[0;32m--> 154\u001b[0m     \u001b[38;5;28;01mreturn\u001b[39;00m \u001b[38;5;28mself\u001b[39m\u001b[38;5;241m.\u001b[39mwriter\u001b[38;5;241m.\u001b[39mwriterow(\u001b[38;5;28;43mself\u001b[39;49m\u001b[38;5;241;43m.\u001b[39;49m\u001b[43m_dict_to_list\u001b[49m\u001b[43m(\u001b[49m\u001b[43mrowdict\u001b[49m\u001b[43m)\u001b[49m)\n",
      "File \u001b[0;32m/usr/lib/python3.10/csv.py:149\u001b[0m, in \u001b[0;36mDictWriter._dict_to_list\u001b[0;34m(self, rowdict)\u001b[0m\n\u001b[1;32m    147\u001b[0m     wrong_fields \u001b[38;5;241m=\u001b[39m rowdict\u001b[38;5;241m.\u001b[39mkeys() \u001b[38;5;241m-\u001b[39m \u001b[38;5;28mself\u001b[39m\u001b[38;5;241m.\u001b[39mfieldnames\n\u001b[1;32m    148\u001b[0m     \u001b[38;5;28;01mif\u001b[39;00m wrong_fields:\n\u001b[0;32m--> 149\u001b[0m         \u001b[38;5;28;01mraise\u001b[39;00m \u001b[38;5;167;01mValueError\u001b[39;00m(\u001b[38;5;124m\"\u001b[39m\u001b[38;5;124mdict contains fields not in fieldnames: \u001b[39m\u001b[38;5;124m\"\u001b[39m\n\u001b[1;32m    150\u001b[0m                          \u001b[38;5;241m+\u001b[39m \u001b[38;5;124m\"\u001b[39m\u001b[38;5;124m, \u001b[39m\u001b[38;5;124m\"\u001b[39m\u001b[38;5;241m.\u001b[39mjoin([\u001b[38;5;28mrepr\u001b[39m(x) \u001b[38;5;28;01mfor\u001b[39;00m x \u001b[38;5;129;01min\u001b[39;00m wrong_fields]))\n\u001b[1;32m    151\u001b[0m \u001b[38;5;28;01mreturn\u001b[39;00m (rowdict\u001b[38;5;241m.\u001b[39mget(key, \u001b[38;5;28mself\u001b[39m\u001b[38;5;241m.\u001b[39mrestval) \u001b[38;5;28;01mfor\u001b[39;00m key \u001b[38;5;129;01min\u001b[39;00m \u001b[38;5;28mself\u001b[39m\u001b[38;5;241m.\u001b[39mfieldnames)\n",
      "\u001b[0;31mValueError\u001b[0m: dict contains fields not in fieldnames: 'Data da Venda'"
     ]
    }
   ],
   "source": [
    "path_dados_combinados = '../data_processed/dados_combinados.csv'\n",
    "\n",
    "with open(path_dados_combinados, 'w') as file:\n",
    "    writer = csv.DictWriter(file, fieldnames=nome_colunas)\n",
    "    writer.writeheader()\n",
    "\n",
    "    for row in combined_list:\n",
    "        writer.writerow(row)"
   ]
  },
  {
   "cell_type": "code",
   "execution_count": null,
   "metadata": {},
   "outputs": [
    {
     "data": {
      "text/plain": [
       "{'Nome do Produto': 'Blush em pó',\n",
       " 'Categoria do Produto': 'Eletrodomésticos',\n",
       " 'Preço do Produto (R$)': 79.41,\n",
       " 'Quantidade em Estoque': 7,\n",
       " 'Filial': 'Filial 7'}"
      ]
     },
     "execution_count": 257,
     "metadata": {},
     "output_type": "execute_result"
    }
   ],
   "source": [
    "combined_list[0]"
   ]
  },
  {
   "cell_type": "code",
   "execution_count": null,
   "metadata": {},
   "outputs": [
    {
     "data": {
      "text/plain": [
       "{'Nome do Produto': 'Sombra de olhos',\n",
       " 'Categoria do Produto': 'Eletrônicos',\n",
       " 'Preço do Produto (R$)': '41.73',\n",
       " 'Quantidade em Estoque': '5',\n",
       " 'Filial': 'Filial 6',\n",
       " 'Data da Venda': '2022-11-21 18:58:06.794203'}"
      ]
     },
     "execution_count": 53,
     "metadata": {},
     "output_type": "execute_result"
    }
   ],
   "source": [
    "combined_list[-1]"
   ]
  },
  {
   "cell_type": "code",
   "execution_count": null,
   "metadata": {},
   "outputs": [
    {
     "ename": "KeyError",
     "evalue": "'Data da Venda'",
     "output_type": "error",
     "traceback": [
      "\u001b[0;31m---------------------------------------------------------------------------\u001b[0m",
      "\u001b[0;31mKeyError\u001b[0m                                  Traceback (most recent call last)",
      "Cell \u001b[0;32mIn[50], line 1\u001b[0m\n\u001b[0;32m----> 1\u001b[0m \u001b[43mcombined_list\u001b[49m\u001b[43m[\u001b[49m\u001b[38;5;241;43m0\u001b[39;49m\u001b[43m]\u001b[49m\u001b[43m[\u001b[49m\u001b[38;5;124;43m'\u001b[39;49m\u001b[38;5;124;43mData da Venda\u001b[39;49m\u001b[38;5;124;43m'\u001b[39;49m\u001b[43m]\u001b[49m\n",
      "\u001b[0;31mKeyError\u001b[0m: 'Data da Venda'"
     ]
    }
   ],
   "source": [
    "combined_list[0]['Data da Venda']"
   ]
  },
  {
   "cell_type": "code",
   "execution_count": null,
   "metadata": {},
   "outputs": [
    {
     "data": {
      "text/plain": [
       "'Indisponivel'"
      ]
     },
     "execution_count": 55,
     "metadata": {},
     "output_type": "execute_result"
    }
   ],
   "source": [
    "combined_list[0].get('Data da Venda', 'Indisponivel')"
   ]
  },
  {
   "cell_type": "code",
   "execution_count": null,
   "metadata": {},
   "outputs": [
    {
     "data": {
      "text/plain": [
       "['Nome do Produto',\n",
       " 'Categoria do Produto',\n",
       " 'Preço do Produto (R$)',\n",
       " 'Quantidade em Estoque',\n",
       " 'Filial']"
      ]
     },
     "execution_count": 42,
     "metadata": {},
     "output_type": "execute_result"
    }
   ],
   "source": [
    "nome_colunas ##vai sofrer alteração"
   ]
  },
  {
   "cell_type": "code",
   "execution_count": null,
   "metadata": {},
   "outputs": [
    {
     "data": {
      "text/plain": [
       "['Nome do Produto',\n",
       " 'Categoria do Produto',\n",
       " 'Preço do Produto (R$)',\n",
       " 'Quantidade em Estoque',\n",
       " 'Filial',\n",
       " 'Data da Venda']"
      ]
     },
     "execution_count": 52,
     "metadata": {},
     "output_type": "execute_result"
    }
   ],
   "source": [
    "nome_colunas = list(combined_list[-1].keys()) ##alteração para puxar a lista completa\n",
    "nome_colunas"
   ]
  },
  {
   "cell_type": "code",
   "execution_count": null,
   "metadata": {},
   "outputs": [],
   "source": [
    "dados_combinados_tabela = [nome_colunas]\n",
    "\n",
    "for row in combined_list:\n",
    "    linha = []     ##lista vazia\n",
    "\n",
    "    for coluna in nome_colunas:\n",
    "        linha.append(row.get(coluna, 'Indisponivel'))\n",
    "    dados_combinados_tabela.append(linha) "
   ]
  },
  {
   "cell_type": "code",
   "execution_count": null,
   "metadata": {},
   "outputs": [
    {
     "data": {
      "text/plain": [
       "['Blush em pó', 'Eletrodomésticos', 79.41, 7, 'Filial 7', 'null']"
      ]
     },
     "execution_count": 45,
     "metadata": {},
     "output_type": "execute_result"
    }
   ],
   "source": [
    "dados_combinados_tabela[1] ##dado json"
   ]
  },
  {
   "cell_type": "code",
   "execution_count": null,
   "metadata": {},
   "outputs": [
    {
     "data": {
      "text/plain": [
       "['Sombra de olhos', 'Eletrônicos', '41.73', '5', 'Filial 6']"
      ]
     },
     "execution_count": 39,
     "metadata": {},
     "output_type": "execute_result"
    }
   ],
   "source": [
    "dados_combinados_tabela[-1] ##dado csv"
   ]
  },
  {
   "cell_type": "code",
   "execution_count": null,
   "metadata": {},
   "outputs": [],
   "source": [
    "path_dados_combinados = '../data_processed/dados_combinados.csv'\n",
    "\n",
    "with open(path_dados_combinados, 'w') as file:\n",
    "    writer = csv.writer(file)\n",
    "    writer.writerows(dados_combinados_tabela)"
   ]
  },
  {
   "cell_type": "code",
   "execution_count": null,
   "metadata": {},
   "outputs": [],
   "source": []
  }
 ],
 "metadata": {
  "kernelspec": {
   "display_name": ".venv",
   "language": "python",
   "name": "python3"
  },
  "language_info": {
   "codemirror_mode": {
    "name": "ipython",
    "version": 3
   },
   "file_extension": ".py",
   "mimetype": "text/x-python",
   "name": "python",
   "nbconvert_exporter": "python",
   "pygments_lexer": "ipython3",
   "version": "3.10.12"
  },
  "orig_nbformat": 4,
  "vscode": {
   "interpreter": {
    "hash": "8bd6455a6ae75ebec820243264e33cef506b295988f78d28b659586370f14cc7"
   }
  }
 },
 "nbformat": 4,
 "nbformat_minor": 2
}
